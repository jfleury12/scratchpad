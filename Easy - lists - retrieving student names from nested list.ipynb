{
 "cells": [
  {
   "cell_type": "markdown",
   "metadata": {},
   "source": [
    "Hacckerrank: https://www.hackerrank.com/challenges/nested-list/problem?h_r=next-challenge&h_v=zen"
   ]
  },
  {
   "cell_type": "code",
   "execution_count": 3,
   "metadata": {},
   "outputs": [
    {
     "name": "stdout",
     "output_type": "stream",
     "text": [
      "5\n",
      "Harry\n",
      "37.21\n",
      "Berry\n",
      "37.21\n",
      "Tina\n",
      "37.2\n",
      "Akriti\n",
      "41\n",
      "Harsh\n",
      "39\n",
      "Berry\n",
      "Harry\n"
     ]
    }
   ],
   "source": [
    "if __name__ == '__main__':\n",
    "    python_students = []\n",
    "    for _ in range(int(input())):\n",
    "        name = input()\n",
    "        score = float(input())\n",
    "        #create nested list\n",
    "        python_students.append([name, score])\n",
    "\n",
    "    # determine 2nd lowest score\n",
    "        # store names and scores in separate lists\n",
    "names = []\n",
    "scores = []\n",
    "for i in python_students:\n",
    "    names.append(i[0])\n",
    "    scores.append(i[1])\n",
    "    # search scores for 2nd lowest score\n",
    "\n",
    "sec_lowest = sorted(set(scores))[1]\n",
    "\n",
    "# fetch students with that score\n",
    "output_list =  [student[0] for student in python_students if student[1] == sec_lowest]\n",
    "output_list = sorted(output_list)\n",
    "\n",
    "#print results in alphabetical order\n",
    "for student in output_list:\n",
    "    print(student)\n",
    "    \n",
    "\n",
    "    # store in nested list\n",
    "    # determine 2nd lowest score\n",
    "    # fetch students with that score\n",
    "    # print results in alphabetical order on a new line\n",
    "        "
   ]
  },
  {
   "cell_type": "code",
   "execution_count": 13,
   "metadata": {},
   "outputs": [
    {
     "name": "stdout",
     "output_type": "stream",
     "text": [
      "5\n",
      "Harry\n",
      "37.21\n",
      "Berry\n",
      "37.21\n",
      "Tina\n",
      "37.2\n",
      "Akriti\n",
      "41\n",
      "Harsh\n",
      "39\n",
      "Berry\n",
      "Harry\n"
     ]
    }
   ],
   "source": [
    "# better method: use a dictionary instead\n",
    "if __name__ == '__main__':\n",
    "    python_students = {}\n",
    "    for _ in range(int(input())):\n",
    "        name = input()\n",
    "        score = float(input())\n",
    "        #create a dictionary\n",
    "        python_students[name]=score\n",
    "        \n",
    "# determine 2nd lowest score\n",
    "    #list of scores\n",
    "sec_lowest = sorted(set(python_students.values()))[1]\n",
    "\n",
    "output_list = [(k,v) for k,v in python_students.items() if v==sec_lowest]\n",
    "# for k,v in python_students.items():\n",
    "#     if v == sec_lowest:\n",
    "#         output_list.append((k,v))\n",
    "        \n",
    "output_list.sort(key = lambda x: x[0])\n",
    "for student in output_list:\n",
    "    print(student[0])\n",
    "    "
   ]
  }
 ],
 "metadata": {
  "kernelspec": {
   "display_name": "Python 3",
   "language": "python",
   "name": "python3"
  },
  "language_info": {
   "codemirror_mode": {
    "name": "ipython",
    "version": 3
   },
   "file_extension": ".py",
   "mimetype": "text/x-python",
   "name": "python",
   "nbconvert_exporter": "python",
   "pygments_lexer": "ipython3",
   "version": "3.6.9"
  }
 },
 "nbformat": 4,
 "nbformat_minor": 2
}
