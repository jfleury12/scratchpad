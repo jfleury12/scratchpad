{
 "cells": [
  {
   "cell_type": "markdown",
   "metadata": {},
   "source": [
    "Find the runner up score:\n",
    "https://www.hackerrank.com/challenges/find-second-maximum-number-in-a-list/problem"
   ]
  },
  {
   "cell_type": "code",
   "execution_count": 24,
   "metadata": {},
   "outputs": [],
   "source": [
    "def runner_up(n,arr):\n",
    "    arr = sorted(arr, reverse=True)\n",
    "    check = []\n",
    "    for num in arr:\n",
    "        check.append(num)\n",
    "        if len(set(check)) == 2:\n",
    "            return num"
   ]
  },
  {
   "cell_type": "code",
   "execution_count": 25,
   "metadata": {},
   "outputs": [
    {
     "data": {
      "text/plain": [
       "5"
      ]
     },
     "execution_count": 25,
     "metadata": {},
     "output_type": "execute_result"
    }
   ],
   "source": [
    "n = 5\n",
    "arr = [2,3,6,6,5]\n",
    "runner_up(n,arr)"
   ]
  },
  {
   "cell_type": "code",
   "execution_count": 37,
   "metadata": {},
   "outputs": [
    {
     "name": "stdout",
     "output_type": "stream",
     "text": [
      "5\n",
      "2 3 6 6 5\n"
     ]
    },
    {
     "data": {
      "text/plain": [
       "5"
      ]
     },
     "execution_count": 37,
     "metadata": {},
     "output_type": "execute_result"
    }
   ],
   "source": [
    "if __name__ == '__main__':\n",
    "    n = int(input())\n",
    "    arr = map(int, input().split())\n",
    "\n",
    "# sort list in descending order\n",
    "# loop through elements, stop at 2nd different number\n",
    "\n",
    "    def runner_up(n,arr):\n",
    "        arr = sorted(arr, reverse=True)\n",
    "        check = []\n",
    "        for num in arr:\n",
    "            check.append(num)\n",
    "            if len(set(check)) == 2:\n",
    "                return num\n",
    "\n",
    "print(runner_up(n,arr))"
   ]
  },
  {
   "cell_type": "code",
   "execution_count": null,
   "metadata": {},
   "outputs": [],
   "source": []
  }
 ],
 "metadata": {
  "kernelspec": {
   "display_name": "Python 3",
   "language": "python",
   "name": "python3"
  },
  "language_info": {
   "codemirror_mode": {
    "name": "ipython",
    "version": 3
   },
   "file_extension": ".py",
   "mimetype": "text/x-python",
   "name": "python",
   "nbconvert_exporter": "python",
   "pygments_lexer": "ipython3",
   "version": "3.6.9"
  }
 },
 "nbformat": 4,
 "nbformat_minor": 2
}
