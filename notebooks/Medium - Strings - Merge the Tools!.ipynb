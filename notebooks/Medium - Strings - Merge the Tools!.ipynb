{
 "cells": [
  {
   "cell_type": "markdown",
   "metadata": {},
   "source": [
    "https://www.hackerrank.com/challenges/merge-the-tools/problem"
   ]
  },
  {
   "cell_type": "code",
   "execution_count": 11,
   "metadata": {},
   "outputs": [],
   "source": [
    "# convert string to list of lists. k segments of length n/k\n",
    "# loop through elements, removing repeat characters\n",
    "# print joined characters in each inner list\n",
    "segments = []\n",
    "def merge_the_tools(string, k):\n",
    "    for i, letter in enumerate(string):\n",
    "        if (i+1)%(k)==0:\n",
    "            segments.append(string[int(i-k+1):i+1])\n",
    "         # splitting string into segments for every n/k letters\n",
    "    for word in segments:\n",
    "        new_words = []\n",
    "        del_list = []\n",
    "        for i,letter in enumerate(word):\n",
    "            if letter in word[:i]:\n",
    "                del_list.append(i)\n",
    "        new_words.append(\"\".join([letter for i,letter in enumerate(word) if i not in del_list]))\n",
    "        print(new_words[-1])"
   ]
  },
  {
   "cell_type": "code",
   "execution_count": 12,
   "metadata": {},
   "outputs": [
    {
     "name": "stdout",
     "output_type": "stream",
     "text": [
      "AB\n",
      "CA\n",
      "AD\n"
     ]
    }
   ],
   "source": [
    "merge_the_tools(\"AABCAAADA\", 3)"
   ]
  },
  {
   "cell_type": "code",
   "execution_count": 14,
   "metadata": {},
   "outputs": [],
   "source": [
    "# Clever solution:\n",
    "def merge_the_tools(string, k):\n",
    "# your code goes here\n",
    "    while string:\n",
    "        s = string[0:k]\n",
    "        seen = ''\n",
    "        for c in s:\n",
    "            if c not in seen:\n",
    "                seen += c\n",
    "        print(seen)\n",
    "        string = string[k:]"
   ]
  },
  {
   "cell_type": "code",
   "execution_count": 15,
   "metadata": {},
   "outputs": [
    {
     "name": "stdout",
     "output_type": "stream",
     "text": [
      "AB\n",
      "CA\n",
      "AD\n"
     ]
    }
   ],
   "source": [
    "merge_the_tools(\"AABCAAADA\", 3)"
   ]
  },
  {
   "cell_type": "code",
   "execution_count": 17,
   "metadata": {},
   "outputs": [],
   "source": [
    "# More advanced solution\n",
    "def merge_the_tools(S, N):\n",
    "    for part in zip(*[iter(S)] * N):\n",
    "        d = dict()\n",
    "        print(''.join([ d.setdefault(c, c) for c in part if c not in d ]))"
   ]
  },
  {
   "cell_type": "code",
   "execution_count": 18,
   "metadata": {},
   "outputs": [
    {
     "name": "stdout",
     "output_type": "stream",
     "text": [
      "AB\n",
      "CA\n",
      "AD\n"
     ]
    }
   ],
   "source": [
    "merge_the_tools(\"AABCAAADA\", 3)"
   ]
  },
  {
   "cell_type": "code",
   "execution_count": null,
   "metadata": {},
   "outputs": [],
   "source": []
  }
 ],
 "metadata": {
  "kernelspec": {
   "display_name": "Python 3",
   "language": "python",
   "name": "python3"
  },
  "language_info": {
   "codemirror_mode": {
    "name": "ipython",
    "version": 3
   },
   "file_extension": ".py",
   "mimetype": "text/x-python",
   "name": "python",
   "nbconvert_exporter": "python",
   "pygments_lexer": "ipython3",
   "version": "3.6.9"
  }
 },
 "nbformat": 4,
 "nbformat_minor": 2
}
